{
 "cells": [
  {
   "cell_type": "code",
   "execution_count": 4,
   "metadata": {},
   "outputs": [
    {
     "name": "stdout",
     "output_type": "stream",
     "text": [
      "Module(body=[Assign(targets=[Name(id='y', ctx=Store())], value=BinOp(left=Constant(value=2), op=Mult(), right=Name(id='gh', ctx=Load())))], type_ignores=[])\n"
     ]
    }
   ],
   "source": [
    "import ast\n",
    " \n",
    "class MyOptimizer(ast.NodeTransformer):\n",
    " \n",
    "    def visit_Name(self, node: ast.Name):\n",
    "        if node.id == 'pi':\n",
    "            node.id = \"gh\"\n",
    "            return node\n",
    "        return node\n",
    " \n",
    "tree = ast.parse(\"y = 2 * pi\")\n",
    "optimizer = MyOptimizer()\n",
    "tree = optimizer.visit(tree)\n",
    "print(ast.dump(tree))"
   ]
  },
  {
   "cell_type": "code",
   "execution_count": 5,
   "metadata": {},
   "outputs": [
    {
     "data": {
      "text/plain": [
       "'y = 2 * gh'"
      ]
     },
     "execution_count": 5,
     "metadata": {},
     "output_type": "execute_result"
    }
   ],
   "source": [
    "ast.unparse(tree)"
   ]
  },
  {
   "cell_type": "code",
   "execution_count": null,
   "metadata": {},
   "outputs": [],
   "source": []
  }
 ],
 "metadata": {
  "kernelspec": {
   "display_name": "pyy3.9",
   "language": "python",
   "name": "pyy3.9"
  },
  "language_info": {
   "codemirror_mode": {
    "name": "ipython",
    "version": 3
   },
   "file_extension": ".py",
   "mimetype": "text/x-python",
   "name": "python",
   "nbconvert_exporter": "python",
   "pygments_lexer": "ipython3",
   "version": "3.9.5"
  }
 },
 "nbformat": 4,
 "nbformat_minor": 2
}
