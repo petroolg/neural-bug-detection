{
 "cells": [
  {
   "cell_type": "code",
   "execution_count": 245,
   "metadata": {},
   "outputs": [],
   "source": [
    "import networkx as nx\n",
    "import json\n",
    "import joblib\n",
    "import gzip\n",
    "from matplotlib import pyplot as plt\n",
    "import os\n",
    "import torch\n",
    "from torch_geometric.data import InMemoryDataset\n",
    "import numpy as np\n",
    "from sklearn.preprocessing import LabelEncoder, OneHotEncoder\n",
    "from scipy import sparse\n",
    "from torch_geometric.data import Data\n",
    "from torch_sparse import SparseTensor"
   ]
  },
  {
   "cell_type": "code",
   "execution_count": 2,
   "metadata": {},
   "outputs": [],
   "source": [
    "%matplotlib inline"
   ]
  },
  {
   "cell_type": "markdown",
   "metadata": {},
   "source": [
    "# Embedding for nodes"
   ]
  },
  {
   "cell_type": "code",
   "execution_count": 111,
   "metadata": {},
   "outputs": [],
   "source": [
    "def ngram_embedding(word, n=3, size=2000):\n",
    "    ngram_indices = {}\n",
    "    for i in range(len(word) - n + 1):\n",
    "        ngram = \"\".join(word[i+j] for j in range(n))\n",
    "        idx = sum([(ord(c) << 16 * j) % size for j, c in enumerate(reversed(ngram))]) % size\n",
    "        ngram_indices[idx] = ngram_indices.get(idx, 0) + 1\n",
    "    return ngram_indices"
   ]
  },
  {
   "cell_type": "code",
   "execution_count": 123,
   "metadata": {},
   "outputs": [],
   "source": [
    "def ngram_embedding_batch(word_list, n=3, size=2000):\n",
    "    batch_indices, batch_values = [], []\n",
    "    for i, word in enumerate(word_list):\n",
    "        ngram_indices = ngram_embedding(word, n, size)\n",
    "        batch_indices += [[i, j] for j in ngram_indices.keys()]\n",
    "        batch_values += list(ngram_indices.values())\n",
    "    emb = torch.sparse_coo_tensor(np.array(batch_indices).T, batch_values, (len(word_list), size))\n",
    "    return emb"
   ]
  },
  {
   "cell_type": "markdown",
   "metadata": {},
   "source": [
    "# Embedding for edges"
   ]
  },
  {
   "cell_type": "code",
   "execution_count": 125,
   "metadata": {},
   "outputs": [],
   "source": [
    "edges_emb = OneHotEncoder()"
   ]
  },
  {
   "cell_type": "code",
   "execution_count": 179,
   "metadata": {},
   "outputs": [],
   "source": [
    "edges_types = [\n",
    "    \"CHILD\",\n",
    "    \"NEXT\",\n",
    "    \"NEXT_USE\",\n",
    "    \"LAST_LEXICAL_USE\",\n",
    "    \"OCCURRENCE_OF\",\n",
    "    \"SUBTOKEN_OF\",\n",
    "    \"COMPUTED_FROM\",\n",
    "    \"RETURNS_TO\"\n",
    "]"
   ]
  },
  {
   "cell_type": "code",
   "execution_count": 180,
   "metadata": {},
   "outputs": [
    {
     "data": {
      "text/plain": [
       "OneHotEncoder()"
      ]
     },
     "execution_count": 180,
     "metadata": {},
     "output_type": "execute_result"
    }
   ],
   "source": [
    "edges_emb.fit([[t] for t in edges_types])"
   ]
  },
  {
   "cell_type": "markdown",
   "metadata": {},
   "source": [
    "# Embedding for labels\n",
    "We've used only 2 error codes for Flake8: `F821`, `F841`"
   ]
  },
  {
   "cell_type": "code",
   "execution_count": 167,
   "metadata": {},
   "outputs": [],
   "source": [
    "class LabelEncoder(OneHotEncoder):\n",
    "    def transform(self, x):\n",
    "        try:\n",
    "            return super().transform(x)\n",
    "        except ValueError:\n",
    "            emb_len = len(self.get_feature_names())\n",
    "            out = sparse.csr_matrix((1, emb_len), dtype=np.long)\n",
    "            if not self.sparse:\n",
    "                return out.toarray()\n",
    "            else:\n",
    "                return out\n",
    "    "
   ]
  },
  {
   "cell_type": "code",
   "execution_count": 168,
   "metadata": {},
   "outputs": [],
   "source": [
    "label_encoder = LabelEncoder()"
   ]
  },
  {
   "cell_type": "code",
   "execution_count": 169,
   "metadata": {},
   "outputs": [
    {
     "data": {
      "text/plain": [
       "LabelEncoder()"
      ]
     },
     "execution_count": 169,
     "metadata": {},
     "output_type": "execute_result"
    }
   ],
   "source": [
    "label_encoder.fit([[\"F821\"], [\"F841\"]])"
   ]
  },
  {
   "cell_type": "code",
   "execution_count": 174,
   "metadata": {},
   "outputs": [
    {
     "data": {
      "text/plain": [
       "<1x2 sparse matrix of type '<class 'numpy.int64'>'\n",
       "\twith 0 stored elements in Compressed Sparse Row format>"
      ]
     },
     "execution_count": 174,
     "metadata": {},
     "output_type": "execute_result"
    }
   ],
   "source": [
    "label_encoder.transform([\"F821\"])"
   ]
  },
  {
   "cell_type": "code",
   "execution_count": 122,
   "metadata": {},
   "outputs": [],
   "source": [
    "train_data = []\n",
    "filename = \"/Users/petrovao/Downloads/py150_files/20_dir/graph-dataset/all-graphs000.jsonl.gz\"\n",
    "\n",
    "with gzip.open(filename, \"rb\") as file:\n",
    "    for line in file.readlines():\n",
    "        train_data.append(json.loads(line))\n",
    "    "
   ]
  },
  {
   "cell_type": "code",
   "execution_count": 140,
   "metadata": {},
   "outputs": [
    {
     "data": {
      "text/plain": [
       "dict_keys(['nodes', 'edges', 'token-sequence', 'supernodes', 'labels', 'variable_mask', 'filename'])"
      ]
     },
     "execution_count": 140,
     "metadata": {},
     "output_type": "execute_result"
    }
   ],
   "source": [
    "train_data[0].keys()"
   ]
  },
  {
   "cell_type": "code",
   "execution_count": 237,
   "metadata": {},
   "outputs": [],
   "source": []
  },
  {
   "cell_type": "code",
   "execution_count": 281,
   "metadata": {},
   "outputs": [],
   "source": [
    "import torch_geometric.transforms as T\n",
    "\n",
    "def scipy_csr_to_torch(csr, dtype):\n",
    "    coo = csr.tocoo()\n",
    "    values = coo.data\n",
    "    indices = np.vstack((coo.row, coo.col))\n",
    "\n",
    "    i = torch.LongTensor(indices)\n",
    "    v = torch.FloatTensor(values)\n",
    "    shape = coo.shape\n",
    "\n",
    "    return torch.sparse_coo_tensor(i, v, torch.Size(shape), dtype=dtype)\n",
    "\n",
    "\n",
    "class Py150KDataset(InMemoryDataset):\n",
    "    def __init__(self, root, transform=T.ToSparseTensor(), pre_transform=None):\n",
    "        super().__init__(root, transform, pre_transform)\n",
    "        self.data, self.slices = torch.load(\"processed/data.pt\")\n",
    "\n",
    "    @property\n",
    "    def raw_file_names(self):\n",
    "        return []\n",
    "\n",
    "    @property\n",
    "    def processed_file_names(self):\n",
    "        return ['data.pt']\n",
    "\n",
    "    def process(self):\n",
    "#         Read data into huge `Data` list.\n",
    "\n",
    "        data_list = []\n",
    "        for graph in train_data:\n",
    "            x = ngram_embedding_batch(graph[\"nodes\"], n=3, size=2000)\n",
    "\n",
    "            edges, edges_types = [], []\n",
    "            for relationship, connections in graph[\"edges\"].items():\n",
    "                for parent, children in connections.items():\n",
    "                    edges += [(int(parent), child) for child in children]\n",
    "                    edges_types += [relationship for _ in children]\n",
    "\n",
    "            edge_index = np.array(edges).T\n",
    "            edge_attr = edges_emb.transform([[edge_type] for edge_type in edges_types])\n",
    "\n",
    "            y = np.vstack([label_encoder.transform(l).toarray() for l in graph[\"labels\"]])\n",
    "\n",
    "            data_list.append(\n",
    "                Data(\n",
    "                    x=SparseTensor.from_torch_sparse_coo_tensor(x), \n",
    "                    edge_index=torch.tensor(edge_index, dtype=torch.long), \n",
    "                    edge_attr=SparseTensor.from_scipy(edge_attr), \n",
    "                    y=torch.tensor(y, dtype=torch.long),\n",
    "                    variables_mask = torch.tensor(graph[\"variable_mask\"], dtype=torch.long)\n",
    "                )\n",
    "            )\n",
    "\n",
    "\n",
    "        data, slices = self.collate(data_list)\n",
    "        torch.save((data, slices), \"processed/data.pt\")\n",
    "        pass"
   ]
  },
  {
   "cell_type": "code",
   "execution_count": 282,
   "metadata": {
    "scrolled": true
   },
   "outputs": [
    {
     "name": "stdout",
     "output_type": "stream",
     "text": [
      "Processing...\n",
      "Done!\n"
     ]
    }
   ],
   "source": [
    "data = Py150KDataset(\".\")"
   ]
  },
  {
   "cell_type": "code",
   "execution_count": 290,
   "metadata": {},
   "outputs": [
    {
     "name": "stdout",
     "output_type": "stream",
     "text": [
      "Data(edge_attr=[716, 8, nnz=716], edge_index=[2, 716], variables_mask=[377], x=[377, 2000, nnz=1740], y=[377, 2])\n",
      "Data(edge_attr=[593, 8, nnz=593], edge_index=[2, 593], variables_mask=[302], x=[302, 2000, nnz=1268], y=[302, 2])\n",
      "Data(edge_attr=[1242, 8, nnz=1242], edge_index=[2, 1242], variables_mask=[637], x=[637, 2000, nnz=1927], y=[637, 2])\n",
      "Data(edge_attr=[635, 8, nnz=635], edge_index=[2, 635], variables_mask=[371], x=[371, 2000, nnz=1176], y=[371, 2])\n",
      "Data(edge_attr=[192, 8, nnz=192], edge_index=[2, 192], variables_mask=[115], x=[115, 2000, nnz=401], y=[115, 2])\n",
      "Data(edge_attr=[149, 8, nnz=149], edge_index=[2, 149], variables_mask=[86], x=[86, 2000, nnz=365], y=[86, 2])\n",
      "Data(edge_attr=[702, 8, nnz=702], edge_index=[2, 702], variables_mask=[427], x=[427, 2000, nnz=1390], y=[427, 2])\n",
      "Data(edge_attr=[385, 8, nnz=385], edge_index=[2, 385], variables_mask=[243], x=[243, 2000, nnz=1218], y=[243, 2])\n",
      "Data(edge_attr=[807, 8, nnz=807], edge_index=[2, 807], variables_mask=[493], x=[493, 2000, nnz=1802], y=[493, 2])\n",
      "Data(edge_attr=[392, 8, nnz=392], edge_index=[2, 392], variables_mask=[222], x=[222, 2000, nnz=740], y=[222, 2])\n",
      "Data(edge_attr=[61, 8, nnz=61], edge_index=[2, 61], variables_mask=[46], x=[46, 2000, nnz=550], y=[46, 2])\n",
      "Data(edge_attr=[108, 8, nnz=108], edge_index=[2, 108], variables_mask=[70], x=[70, 2000, nnz=324], y=[70, 2])\n",
      "Data(edge_attr=[3996, 8, nnz=3996], edge_index=[2, 3996], variables_mask=[2093], x=[2093, 2000, nnz=8336], y=[2093, 2])\n",
      "Data(edge_attr=[413, 8, nnz=413], edge_index=[2, 413], variables_mask=[261], x=[261, 2000, nnz=1106], y=[261, 2])\n",
      "Data(edge_attr=[572, 8, nnz=572], edge_index=[2, 572], variables_mask=[302], x=[302, 2000, nnz=1099], y=[302, 2])\n",
      "Data(edge_attr=[3375, 8, nnz=3375], edge_index=[2, 3375], variables_mask=[1622], x=[1622, 2000, nnz=6961], y=[1622, 2])\n",
      "Data(edge_attr=[861, 8, nnz=861], edge_index=[2, 861], variables_mask=[434], x=[434, 2000, nnz=1657], y=[434, 2])\n",
      "Data(edge_attr=[8193, 8, nnz=8193], edge_index=[2, 8193], variables_mask=[3855], x=[3855, 2000, nnz=12112], y=[3855, 2])\n",
      "Data(edge_attr=[512, 8, nnz=512], edge_index=[2, 512], variables_mask=[252], x=[252, 2000, nnz=830], y=[252, 2])\n",
      "Data(edge_attr=[2588, 8, nnz=2588], edge_index=[2, 2588], variables_mask=[1230], x=[1230, 2000, nnz=4612], y=[1230, 2])\n",
      "Data(edge_attr=[1705, 8, nnz=1705], edge_index=[2, 1705], variables_mask=[792], x=[792, 2000, nnz=2891], y=[792, 2])\n",
      "Data(edge_attr=[1148, 8, nnz=1148], edge_index=[2, 1148], variables_mask=[705], x=[705, 2000, nnz=1726], y=[705, 2])\n",
      "Data(edge_attr=[25633, 8, nnz=25633], edge_index=[2, 25633], variables_mask=[11013], x=[11013, 2000, nnz=32396], y=[11013, 2])\n",
      "Data(edge_attr=[39, 8, nnz=39], edge_index=[2, 39], variables_mask=[27], x=[27, 2000, nnz=75], y=[27, 2])\n",
      "Data(edge_attr=[65, 8, nnz=65], edge_index=[2, 65], variables_mask=[46], x=[46, 2000, nnz=136], y=[46, 2])\n",
      "Data(edge_attr=[584, 8, nnz=584], edge_index=[2, 584], variables_mask=[288], x=[288, 2000, nnz=1300], y=[288, 2])\n",
      "Data(edge_attr=[2550, 8, nnz=2550], edge_index=[2, 2550], variables_mask=[1390], x=[1390, 2000, nnz=5054], y=[1390, 2])\n",
      "Data(edge_attr=[48, 8, nnz=48], edge_index=[2, 48], variables_mask=[34], x=[34, 2000, nnz=127], y=[34, 2])\n",
      "Data(edge_attr=[60, 8, nnz=60], edge_index=[2, 60], variables_mask=[44], x=[44, 2000, nnz=373], y=[44, 2])\n",
      "Data(edge_attr=[89, 8, nnz=89], edge_index=[2, 89], variables_mask=[63], x=[63, 2000, nnz=221], y=[63, 2])\n",
      "Data(edge_attr=[9136, 8, nnz=9136], edge_index=[2, 9136], variables_mask=[5464], x=[5464, 2000, nnz=17178], y=[5464, 2])\n",
      "Data(edge_attr=[487, 8, nnz=487], edge_index=[2, 487], variables_mask=[294], x=[294, 2000, nnz=983], y=[294, 2])\n",
      "Data(edge_attr=[557, 8, nnz=557], edge_index=[2, 557], variables_mask=[303], x=[303, 2000, nnz=878], y=[303, 2])\n",
      "Data(edge_attr=[155, 8, nnz=155], edge_index=[2, 155], variables_mask=[94], x=[94, 2000, nnz=373], y=[94, 2])\n",
      "Data(edge_attr=[922, 8, nnz=922], edge_index=[2, 922], variables_mask=[518], x=[518, 2000, nnz=1654], y=[518, 2])\n",
      "Data(edge_attr=[478, 8, nnz=478], edge_index=[2, 478], variables_mask=[262], x=[262, 2000, nnz=864], y=[262, 2])\n",
      "Data(edge_attr=[562, 8, nnz=562], edge_index=[2, 562], variables_mask=[294], x=[294, 2000, nnz=875], y=[294, 2])\n",
      "Data(edge_attr=[403, 8, nnz=403], edge_index=[2, 403], variables_mask=[251], x=[251, 2000, nnz=906], y=[251, 2])\n",
      "Data(edge_attr=[1067, 8, nnz=1067], edge_index=[2, 1067], variables_mask=[584], x=[584, 2000, nnz=2455], y=[584, 2])\n",
      "Data(edge_attr=[5865, 8, nnz=5865], edge_index=[2, 5865], variables_mask=[2841], x=[2841, 2000, nnz=9426], y=[2841, 2])\n",
      "Data(edge_attr=[627, 8, nnz=627], edge_index=[2, 627], variables_mask=[311], x=[311, 2000, nnz=994], y=[311, 2])\n",
      "Data(edge_attr=[919, 8, nnz=919], edge_index=[2, 919], variables_mask=[464], x=[464, 2000, nnz=1538], y=[464, 2])\n",
      "Data(edge_attr=[70, 8, nnz=70], edge_index=[2, 70], variables_mask=[47], x=[47, 2000, nnz=208], y=[47, 2])\n",
      "Data(edge_attr=[288, 8, nnz=288], edge_index=[2, 288], variables_mask=[162], x=[162, 2000, nnz=560], y=[162, 2])\n",
      "Data(edge_attr=[159, 8, nnz=159], edge_index=[2, 159], variables_mask=[96], x=[96, 2000, nnz=483], y=[96, 2])\n",
      "Data(edge_attr=[165, 8, nnz=165], edge_index=[2, 165], variables_mask=[105], x=[105, 2000, nnz=567], y=[105, 2])\n",
      "Data(edge_attr=[326, 8, nnz=326], edge_index=[2, 326], variables_mask=[191], x=[191, 2000, nnz=553], y=[191, 2])\n",
      "Data(edge_attr=[616, 8, nnz=616], edge_index=[2, 616], variables_mask=[354], x=[354, 2000, nnz=1602], y=[354, 2])\n",
      "Data(edge_attr=[3307, 8, nnz=3307], edge_index=[2, 3307], variables_mask=[1648], x=[1648, 2000, nnz=5822], y=[1648, 2])\n",
      "Data(edge_attr=[406, 8, nnz=406], edge_index=[2, 406], variables_mask=[239], x=[239, 2000, nnz=907], y=[239, 2])\n",
      "Data(edge_attr=[747, 8, nnz=747], edge_index=[2, 747], variables_mask=[414], x=[414, 2000, nnz=1357], y=[414, 2])\n",
      "Data(edge_attr=[158, 8, nnz=158], edge_index=[2, 158], variables_mask=[98], x=[98, 2000, nnz=435], y=[98, 2])\n",
      "Data(edge_attr=[327, 8, nnz=327], edge_index=[2, 327], variables_mask=[172], x=[172, 2000, nnz=673], y=[172, 2])\n",
      "Data(edge_attr=[3933, 8, nnz=3933], edge_index=[2, 3933], variables_mask=[2011], x=[2011, 2000, nnz=6957], y=[2011, 2])\n",
      "Data(edge_attr=[2682, 8, nnz=2682], edge_index=[2, 2682], variables_mask=[1398], x=[1398, 2000, nnz=5489], y=[1398, 2])\n",
      "Data(edge_attr=[3607, 8, nnz=3607], edge_index=[2, 3607], variables_mask=[1782], x=[1782, 2000, nnz=6550], y=[1782, 2])\n",
      "Data(edge_attr=[214, 8, nnz=214], edge_index=[2, 214], variables_mask=[137], x=[137, 2000, nnz=529], y=[137, 2])\n",
      "Data(edge_attr=[614, 8, nnz=614], edge_index=[2, 614], variables_mask=[349], x=[349, 2000, nnz=1065], y=[349, 2])\n",
      "Data(edge_attr=[263, 8, nnz=263], edge_index=[2, 263], variables_mask=[163], x=[163, 2000, nnz=597], y=[163, 2])\n",
      "Data(edge_attr=[386, 8, nnz=386], edge_index=[2, 386], variables_mask=[232], x=[232, 2000, nnz=873], y=[232, 2])\n",
      "Data(edge_attr=[98, 8, nnz=98], edge_index=[2, 98], variables_mask=[64], x=[64, 2000, nnz=227], y=[64, 2])\n",
      "Data(edge_attr=[215, 8, nnz=215], edge_index=[2, 215], variables_mask=[128], x=[128, 2000, nnz=529], y=[128, 2])\n",
      "Data(edge_attr=[382, 8, nnz=382], edge_index=[2, 382], variables_mask=[234], x=[234, 2000, nnz=757], y=[234, 2])\n",
      "Data(edge_attr=[1502, 8, nnz=1502], edge_index=[2, 1502], variables_mask=[765], x=[765, 2000, nnz=2258], y=[765, 2])\n",
      "Data(edge_attr=[290, 8, nnz=290], edge_index=[2, 290], variables_mask=[168], x=[168, 2000, nnz=602], y=[168, 2])\n",
      "Data(edge_attr=[1140, 8, nnz=1140], edge_index=[2, 1140], variables_mask=[590], x=[590, 2000, nnz=2252], y=[590, 2])\n",
      "Data(edge_attr=[588, 8, nnz=588], edge_index=[2, 588], variables_mask=[326], x=[326, 2000, nnz=1097], y=[326, 2])\n",
      "Data(edge_attr=[562, 8, nnz=562], edge_index=[2, 562], variables_mask=[326], x=[326, 2000, nnz=1162], y=[326, 2])\n",
      "Data(edge_attr=[528, 8, nnz=528], edge_index=[2, 528], variables_mask=[306], x=[306, 2000, nnz=1178], y=[306, 2])\n",
      "Data(edge_attr=[194, 8, nnz=194], edge_index=[2, 194], variables_mask=[122], x=[122, 2000, nnz=488], y=[122, 2])\n",
      "Data(edge_attr=[44, 8, nnz=44], edge_index=[2, 44], variables_mask=[32], x=[32, 2000, nnz=105], y=[32, 2])\n",
      "Data(edge_attr=[282, 8, nnz=282], edge_index=[2, 282], variables_mask=[179], x=[179, 2000, nnz=630], y=[179, 2])\n",
      "Data(edge_attr=[1519, 8, nnz=1519], edge_index=[2, 1519], variables_mask=[801], x=[801, 2000, nnz=2291], y=[801, 2])\n",
      "Data(edge_attr=[1237, 8, nnz=1237], edge_index=[2, 1237], variables_mask=[623], x=[623, 2000, nnz=2451], y=[623, 2])\n",
      "Data(edge_attr=[1624, 8, nnz=1624], edge_index=[2, 1624], variables_mask=[812], x=[812, 2000, nnz=2635], y=[812, 2])\n",
      "Data(edge_attr=[11132, 8, nnz=11132], edge_index=[2, 11132], variables_mask=[5052], x=[5052, 2000, nnz=16268], y=[5052, 2])\n",
      "Data(edge_attr=[7252, 8, nnz=7252], edge_index=[2, 7252], variables_mask=[3442], x=[3442, 2000, nnz=10885], y=[3442, 2])\n",
      "Data(edge_attr=[1609, 8, nnz=1609], edge_index=[2, 1609], variables_mask=[821], x=[821, 2000, nnz=2450], y=[821, 2])\n",
      "Data(edge_attr=[528, 8, nnz=528], edge_index=[2, 528], variables_mask=[317], x=[317, 2000, nnz=1257], y=[317, 2])\n",
      "Data(edge_attr=[173, 8, nnz=173], edge_index=[2, 173], variables_mask=[101], x=[101, 2000, nnz=508], y=[101, 2])\n",
      "Data(edge_attr=[583, 8, nnz=583], edge_index=[2, 583], variables_mask=[355], x=[355, 2000, nnz=1387], y=[355, 2])\n",
      "Data(edge_attr=[1642, 8, nnz=1642], edge_index=[2, 1642], variables_mask=[825], x=[825, 2000, nnz=3094], y=[825, 2])\n",
      "Data(edge_attr=[5369, 8, nnz=5369], edge_index=[2, 5369], variables_mask=[2774], x=[2774, 2000, nnz=10214], y=[2774, 2])\n",
      "Data(edge_attr=[1842, 8, nnz=1842], edge_index=[2, 1842], variables_mask=[944], x=[944, 2000, nnz=3875], y=[944, 2])\n",
      "Data(edge_attr=[1115, 8, nnz=1115], edge_index=[2, 1115], variables_mask=[587], x=[587, 2000, nnz=2106], y=[587, 2])\n",
      "Data(edge_attr=[47, 8, nnz=47], edge_index=[2, 47], variables_mask=[34], x=[34, 2000, nnz=132], y=[34, 2])\n",
      "Data(edge_attr=[37, 8, nnz=37], edge_index=[2, 37], variables_mask=[27], x=[27, 2000, nnz=161], y=[27, 2])\n",
      "Data(edge_attr=[103, 8, nnz=103], edge_index=[2, 103], variables_mask=[71], x=[71, 2000, nnz=205], y=[71, 2])\n",
      "Data(edge_attr=[2029, 8, nnz=2029], edge_index=[2, 2029], variables_mask=[1031], x=[1031, 2000, nnz=3837], y=[1031, 2])\n",
      "Data(edge_attr=[1186, 8, nnz=1186], edge_index=[2, 1186], variables_mask=[662], x=[662, 2000, nnz=2413], y=[662, 2])\n",
      "Data(edge_attr=[668, 8, nnz=668], edge_index=[2, 668], variables_mask=[381], x=[381, 2000, nnz=1317], y=[381, 2])\n",
      "Data(edge_attr=[189, 8, nnz=189], edge_index=[2, 189], variables_mask=[120], x=[120, 2000, nnz=468], y=[120, 2])\n",
      "Data(edge_attr=[367, 8, nnz=367], edge_index=[2, 367], variables_mask=[207], x=[207, 2000, nnz=664], y=[207, 2])\n",
      "Data(edge_attr=[557, 8, nnz=557], edge_index=[2, 557], variables_mask=[269], x=[269, 2000, nnz=1250], y=[269, 2])\n",
      "Data(edge_attr=[197, 8, nnz=197], edge_index=[2, 197], variables_mask=[106], x=[106, 2000, nnz=430], y=[106, 2])\n",
      "Data(edge_attr=[563, 8, nnz=563], edge_index=[2, 563], variables_mask=[301], x=[301, 2000, nnz=906], y=[301, 2])\n",
      "Data(edge_attr=[129, 8, nnz=129], edge_index=[2, 129], variables_mask=[82], x=[82, 2000, nnz=317], y=[82, 2])\n",
      "Data(edge_attr=[129, 8, nnz=129], edge_index=[2, 129], variables_mask=[82], x=[82, 2000, nnz=336], y=[82, 2])\n",
      "Data(edge_attr=[174, 8, nnz=174], edge_index=[2, 174], variables_mask=[110], x=[110, 2000, nnz=425], y=[110, 2])\n",
      "Data(edge_attr=[163, 8, nnz=163], edge_index=[2, 163], variables_mask=[103], x=[103, 2000, nnz=407], y=[103, 2])\n",
      "Data(edge_attr=[1153, 8, nnz=1153], edge_index=[2, 1153], variables_mask=[590], x=[590, 2000, nnz=2384], y=[590, 2])\n",
      "Data(edge_attr=[146, 8, nnz=146], edge_index=[2, 146], variables_mask=[90], x=[90, 2000, nnz=275], y=[90, 2])\n",
      "Data(edge_attr=[575, 8, nnz=575], edge_index=[2, 575], variables_mask=[328], x=[328, 2000, nnz=1027], y=[328, 2])\n",
      "Data(edge_attr=[648, 8, nnz=648], edge_index=[2, 648], variables_mask=[376], x=[376, 2000, nnz=1084], y=[376, 2])\n",
      "Data(edge_attr=[929, 8, nnz=929], edge_index=[2, 929], variables_mask=[484], x=[484, 2000, nnz=1867], y=[484, 2])\n",
      "Data(edge_attr=[5441, 8, nnz=5441], edge_index=[2, 5441], variables_mask=[2618], x=[2618, 2000, nnz=9339], y=[2618, 2])\n",
      "Data(edge_attr=[340, 8, nnz=340], edge_index=[2, 340], variables_mask=[204], x=[204, 2000, nnz=729], y=[204, 2])\n",
      "Data(edge_attr=[226, 8, nnz=226], edge_index=[2, 226], variables_mask=[144], x=[144, 2000, nnz=517], y=[144, 2])\n",
      "Data(edge_attr=[470, 8, nnz=470], edge_index=[2, 470], variables_mask=[268], x=[268, 2000, nnz=950], y=[268, 2])\n",
      "Data(edge_attr=[493, 8, nnz=493], edge_index=[2, 493], variables_mask=[294], x=[294, 2000, nnz=954], y=[294, 2])\n",
      "Data(edge_attr=[437, 8, nnz=437], edge_index=[2, 437], variables_mask=[249], x=[249, 2000, nnz=856], y=[249, 2])\n",
      "Data(edge_attr=[238, 8, nnz=238], edge_index=[2, 238], variables_mask=[151], x=[151, 2000, nnz=521], y=[151, 2])\n",
      "Data(edge_attr=[627, 8, nnz=627], edge_index=[2, 627], variables_mask=[345], x=[345, 2000, nnz=1090], y=[345, 2])\n",
      "Data(edge_attr=[347, 8, nnz=347], edge_index=[2, 347], variables_mask=[191], x=[191, 2000, nnz=738], y=[191, 2])\n",
      "Data(edge_attr=[207, 8, nnz=207], edge_index=[2, 207], variables_mask=[126], x=[126, 2000, nnz=486], y=[126, 2])\n",
      "Data(edge_attr=[187, 8, nnz=187], edge_index=[2, 187], variables_mask=[119], x=[119, 2000, nnz=463], y=[119, 2])\n",
      "Data(edge_attr=[304, 8, nnz=304], edge_index=[2, 304], variables_mask=[176], x=[176, 2000, nnz=696], y=[176, 2])\n",
      "Data(edge_attr=[186, 8, nnz=186], edge_index=[2, 186], variables_mask=[117], x=[117, 2000, nnz=476], y=[117, 2])\n",
      "Data(edge_attr=[413, 8, nnz=413], edge_index=[2, 413], variables_mask=[222], x=[222, 2000, nnz=861], y=[222, 2])\n",
      "Data(edge_attr=[175, 8, nnz=175], edge_index=[2, 175], variables_mask=[110], x=[110, 2000, nnz=441], y=[110, 2])\n",
      "Data(edge_attr=[176, 8, nnz=176], edge_index=[2, 176], variables_mask=[111], x=[111, 2000, nnz=451], y=[111, 2])\n",
      "Data(edge_attr=[218, 8, nnz=218], edge_index=[2, 218], variables_mask=[132], x=[132, 2000, nnz=571], y=[132, 2])\n",
      "Data(edge_attr=[189, 8, nnz=189], edge_index=[2, 189], variables_mask=[121], x=[121, 2000, nnz=426], y=[121, 2])\n",
      "Data(edge_attr=[527, 8, nnz=527], edge_index=[2, 527], variables_mask=[302], x=[302, 2000, nnz=962], y=[302, 2])\n",
      "Data(edge_attr=[328, 8, nnz=328], edge_index=[2, 328], variables_mask=[211], x=[211, 2000, nnz=817], y=[211, 2])\n",
      "Data(edge_attr=[1663, 8, nnz=1663], edge_index=[2, 1663], variables_mask=[868], x=[868, 2000, nnz=3157], y=[868, 2])\n",
      "Data(edge_attr=[686, 8, nnz=686], edge_index=[2, 686], variables_mask=[352], x=[352, 2000, nnz=1291], y=[352, 2])\n",
      "Data(edge_attr=[8993, 8, nnz=8993], edge_index=[2, 8993], variables_mask=[4393], x=[4393, 2000, nnz=14653], y=[4393, 2])\n",
      "Data(edge_attr=[283, 8, nnz=283], edge_index=[2, 283], variables_mask=[161], x=[161, 2000, nnz=641], y=[161, 2])\n",
      "Data(edge_attr=[1414, 8, nnz=1414], edge_index=[2, 1414], variables_mask=[739], x=[739, 2000, nnz=2730], y=[739, 2])\n",
      "Data(edge_attr=[283, 8, nnz=283], edge_index=[2, 283], variables_mask=[164], x=[164, 2000, nnz=899], y=[164, 2])\n",
      "Data(edge_attr=[546, 8, nnz=546], edge_index=[2, 546], variables_mask=[289], x=[289, 2000, nnz=1074], y=[289, 2])\n",
      "Data(edge_attr=[329, 8, nnz=329], edge_index=[2, 329], variables_mask=[181], x=[181, 2000, nnz=641], y=[181, 2])\n",
      "Data(edge_attr=[2383, 8, nnz=2383], edge_index=[2, 2383], variables_mask=[1185], x=[1185, 2000, nnz=4172], y=[1185, 2])\n",
      "Data(edge_attr=[1409, 8, nnz=1409], edge_index=[2, 1409], variables_mask=[730], x=[730, 2000, nnz=2862], y=[730, 2])\n",
      "Data(edge_attr=[191, 8, nnz=191], edge_index=[2, 191], variables_mask=[107], x=[107, 2000, nnz=400], y=[107, 2])\n",
      "Data(edge_attr=[6650, 8, nnz=6650], edge_index=[2, 6650], variables_mask=[3269], x=[3269, 2000, nnz=10685], y=[3269, 2])\n",
      "Data(edge_attr=[658, 8, nnz=658], edge_index=[2, 658], variables_mask=[366], x=[366, 2000, nnz=1361], y=[366, 2])\n",
      "Data(edge_attr=[271, 8, nnz=271], edge_index=[2, 271], variables_mask=[154], x=[154, 2000, nnz=483], y=[154, 2])\n",
      "Data(edge_attr=[3518, 8, nnz=3518], edge_index=[2, 3518], variables_mask=[1836], x=[1836, 2000, nnz=6380], y=[1836, 2])\n",
      "Data(edge_attr=[2296, 8, nnz=2296], edge_index=[2, 2296], variables_mask=[1228], x=[1228, 2000, nnz=3891], y=[1228, 2])\n",
      "Data(edge_attr=[2508, 8, nnz=2508], edge_index=[2, 2508], variables_mask=[1334], x=[1334, 2000, nnz=3895], y=[1334, 2])\n",
      "Data(edge_attr=[1007, 8, nnz=1007], edge_index=[2, 1007], variables_mask=[561], x=[561, 2000, nnz=1781], y=[561, 2])\n",
      "Data(edge_attr=[1852, 8, nnz=1852], edge_index=[2, 1852], variables_mask=[977], x=[977, 2000, nnz=3026], y=[977, 2])\n",
      "Data(edge_attr=[2417, 8, nnz=2417], edge_index=[2, 2417], variables_mask=[1331], x=[1331, 2000, nnz=3668], y=[1331, 2])\n",
      "Data(edge_attr=[6052, 8, nnz=6052], edge_index=[2, 6052], variables_mask=[3105], x=[3105, 2000, nnz=9375], y=[3105, 2])\n",
      "Data(edge_attr=[3578, 8, nnz=3578], edge_index=[2, 3578], variables_mask=[1929], x=[1929, 2000, nnz=5328], y=[1929, 2])\n",
      "Data(edge_attr=[4789, 8, nnz=4789], edge_index=[2, 4789], variables_mask=[2683], x=[2683, 2000, nnz=7664], y=[2683, 2])\n",
      "Data(edge_attr=[3061, 8, nnz=3061], edge_index=[2, 3061], variables_mask=[1626], x=[1626, 2000, nnz=5026], y=[1626, 2])\n",
      "Data(edge_attr=[672, 8, nnz=672], edge_index=[2, 672], variables_mask=[412], x=[412, 2000, nnz=1524], y=[412, 2])\n",
      "Data(edge_attr=[1285, 8, nnz=1285], edge_index=[2, 1285], variables_mask=[670], x=[670, 2000, nnz=3264], y=[670, 2])\n",
      "Data(edge_attr=[716, 8, nnz=716], edge_index=[2, 716], variables_mask=[432], x=[432, 2000, nnz=1686], y=[432, 2])\n",
      "Data(edge_attr=[2708, 8, nnz=2708], edge_index=[2, 2708], variables_mask=[1374], x=[1374, 2000, nnz=5469], y=[1374, 2])\n",
      "Data(edge_attr=[5932, 8, nnz=5932], edge_index=[2, 5932], variables_mask=[2703], x=[2703, 2000, nnz=8625], y=[2703, 2])\n",
      "Data(edge_attr=[181, 8, nnz=181], edge_index=[2, 181], variables_mask=[116], x=[116, 2000, nnz=420], y=[116, 2])\n",
      "Data(edge_attr=[323, 8, nnz=323], edge_index=[2, 323], variables_mask=[179], x=[179, 2000, nnz=1060], y=[179, 2])\n",
      "Data(edge_attr=[209, 8, nnz=209], edge_index=[2, 209], variables_mask=[125], x=[125, 2000, nnz=615], y=[125, 2])\n"
     ]
    }
   ],
   "source": [
    "for i in range(len(data)):\n",
    "    print(data.get(i))"
   ]
  },
  {
   "cell_type": "code",
   "execution_count": 284,
   "metadata": {},
   "outputs": [
    {
     "data": {
      "text/plain": [
       "['__add__',\n",
       " '__class__',\n",
       " '__class_getitem__',\n",
       " '__data_list__',\n",
       " '__delattr__',\n",
       " '__dict__',\n",
       " '__dir__',\n",
       " '__doc__',\n",
       " '__eq__',\n",
       " '__format__',\n",
       " '__ge__',\n",
       " '__getattribute__',\n",
       " '__getitem__',\n",
       " '__gt__',\n",
       " '__hash__',\n",
       " '__indices__',\n",
       " '__init__',\n",
       " '__init_subclass__',\n",
       " '__le__',\n",
       " '__len__',\n",
       " '__lt__',\n",
       " '__module__',\n",
       " '__ne__',\n",
       " '__new__',\n",
       " '__orig_bases__',\n",
       " '__parameters__',\n",
       " '__reduce__',\n",
       " '__reduce_ex__',\n",
       " '__repr__',\n",
       " '__setattr__',\n",
       " '__sizeof__',\n",
       " '__slots__',\n",
       " '__str__',\n",
       " '__subclasshook__',\n",
       " '__weakref__',\n",
       " '_download',\n",
       " '_is_protocol',\n",
       " '_process',\n",
       " 'collate',\n",
       " 'copy',\n",
       " 'data',\n",
       " 'download',\n",
       " 'get',\n",
       " 'index_select',\n",
       " 'indices',\n",
       " 'len',\n",
       " 'num_classes',\n",
       " 'num_edge_features',\n",
       " 'num_features',\n",
       " 'num_node_features',\n",
       " 'pre_filter',\n",
       " 'pre_transform',\n",
       " 'process',\n",
       " 'processed_dir',\n",
       " 'processed_file_names',\n",
       " 'processed_paths',\n",
       " 'raw_dir',\n",
       " 'raw_file_names',\n",
       " 'raw_paths',\n",
       " 'root',\n",
       " 'shuffle',\n",
       " 'slices',\n",
       " 'transform']"
      ]
     },
     "execution_count": 284,
     "metadata": {},
     "output_type": "execute_result"
    }
   ],
   "source": [
    "dir(data)"
   ]
  },
  {
   "cell_type": "code",
   "execution_count": null,
   "metadata": {},
   "outputs": [],
   "source": []
  },
  {
   "cell_type": "code",
   "execution_count": null,
   "metadata": {},
   "outputs": [],
   "source": []
  },
  {
   "cell_type": "code",
   "execution_count": null,
   "metadata": {},
   "outputs": [],
   "source": []
  },
  {
   "cell_type": "code",
   "execution_count": 285,
   "metadata": {},
   "outputs": [],
   "source": [
    "from torch_geometric.data import DataLoader"
   ]
  },
  {
   "cell_type": "code",
   "execution_count": 286,
   "metadata": {},
   "outputs": [],
   "source": [
    "data_size = len(data)\n",
    "train_loader = DataLoader(data[:int(data_size * 0.8)], batch_size=16, shuffle=True)\n",
    "test_loader = DataLoader(data[int(data_size * 0.8):], batch_size=16, shuffle=True)"
   ]
  },
  {
   "cell_type": "code",
   "execution_count": 287,
   "metadata": {},
   "outputs": [
    {
     "ename": "TypeError",
     "evalue": "list indices must be integers or slices, not tuple",
     "output_type": "error",
     "traceback": [
      "\u001b[0;31m---------------------------------------------------------------------------\u001b[0m",
      "\u001b[0;31mTypeError\u001b[0m                                 Traceback (most recent call last)",
      "\u001b[0;32m<ipython-input-287-387572884d8f>\u001b[0m in \u001b[0;36m<module>\u001b[0;34m\u001b[0m\n\u001b[0;32m----> 1\u001b[0;31m \u001b[0;32mfor\u001b[0m \u001b[0mbatch\u001b[0m \u001b[0;32min\u001b[0m \u001b[0mtrain_loader\u001b[0m\u001b[0;34m:\u001b[0m\u001b[0;34m\u001b[0m\u001b[0;34m\u001b[0m\u001b[0m\n\u001b[0m\u001b[1;32m      2\u001b[0m     \u001b[0mprint\u001b[0m\u001b[0;34m(\u001b[0m\u001b[0mbatch\u001b[0m\u001b[0;34m)\u001b[0m\u001b[0;34m\u001b[0m\u001b[0;34m\u001b[0m\u001b[0m\n",
      "\u001b[0;32m~/miniconda3/envs/ptgnn/lib/python3.8/site-packages/torch/utils/data/dataloader.py\u001b[0m in \u001b[0;36m__next__\u001b[0;34m(self)\u001b[0m\n\u001b[1;32m    433\u001b[0m         \u001b[0;32mif\u001b[0m \u001b[0mself\u001b[0m\u001b[0;34m.\u001b[0m\u001b[0m_sampler_iter\u001b[0m \u001b[0;32mis\u001b[0m \u001b[0;32mNone\u001b[0m\u001b[0;34m:\u001b[0m\u001b[0;34m\u001b[0m\u001b[0;34m\u001b[0m\u001b[0m\n\u001b[1;32m    434\u001b[0m             \u001b[0mself\u001b[0m\u001b[0;34m.\u001b[0m\u001b[0m_reset\u001b[0m\u001b[0;34m(\u001b[0m\u001b[0;34m)\u001b[0m\u001b[0;34m\u001b[0m\u001b[0;34m\u001b[0m\u001b[0m\n\u001b[0;32m--> 435\u001b[0;31m         \u001b[0mdata\u001b[0m \u001b[0;34m=\u001b[0m \u001b[0mself\u001b[0m\u001b[0;34m.\u001b[0m\u001b[0m_next_data\u001b[0m\u001b[0;34m(\u001b[0m\u001b[0;34m)\u001b[0m\u001b[0;34m\u001b[0m\u001b[0;34m\u001b[0m\u001b[0m\n\u001b[0m\u001b[1;32m    436\u001b[0m         \u001b[0mself\u001b[0m\u001b[0;34m.\u001b[0m\u001b[0m_num_yielded\u001b[0m \u001b[0;34m+=\u001b[0m \u001b[0;36m1\u001b[0m\u001b[0;34m\u001b[0m\u001b[0;34m\u001b[0m\u001b[0m\n\u001b[1;32m    437\u001b[0m         \u001b[0;32mif\u001b[0m \u001b[0mself\u001b[0m\u001b[0;34m.\u001b[0m\u001b[0m_dataset_kind\u001b[0m \u001b[0;34m==\u001b[0m \u001b[0m_DatasetKind\u001b[0m\u001b[0;34m.\u001b[0m\u001b[0mIterable\u001b[0m \u001b[0;32mand\u001b[0m\u001b[0;31m \u001b[0m\u001b[0;31m\\\u001b[0m\u001b[0;34m\u001b[0m\u001b[0;34m\u001b[0m\u001b[0m\n",
      "\u001b[0;32m~/miniconda3/envs/ptgnn/lib/python3.8/site-packages/torch/utils/data/dataloader.py\u001b[0m in \u001b[0;36m_next_data\u001b[0;34m(self)\u001b[0m\n\u001b[1;32m    473\u001b[0m     \u001b[0;32mdef\u001b[0m \u001b[0m_next_data\u001b[0m\u001b[0;34m(\u001b[0m\u001b[0mself\u001b[0m\u001b[0;34m)\u001b[0m\u001b[0;34m:\u001b[0m\u001b[0;34m\u001b[0m\u001b[0;34m\u001b[0m\u001b[0m\n\u001b[1;32m    474\u001b[0m         \u001b[0mindex\u001b[0m \u001b[0;34m=\u001b[0m \u001b[0mself\u001b[0m\u001b[0;34m.\u001b[0m\u001b[0m_next_index\u001b[0m\u001b[0;34m(\u001b[0m\u001b[0;34m)\u001b[0m  \u001b[0;31m# may raise StopIteration\u001b[0m\u001b[0;34m\u001b[0m\u001b[0;34m\u001b[0m\u001b[0m\n\u001b[0;32m--> 475\u001b[0;31m         \u001b[0mdata\u001b[0m \u001b[0;34m=\u001b[0m \u001b[0mself\u001b[0m\u001b[0;34m.\u001b[0m\u001b[0m_dataset_fetcher\u001b[0m\u001b[0;34m.\u001b[0m\u001b[0mfetch\u001b[0m\u001b[0;34m(\u001b[0m\u001b[0mindex\u001b[0m\u001b[0;34m)\u001b[0m  \u001b[0;31m# may raise StopIteration\u001b[0m\u001b[0;34m\u001b[0m\u001b[0;34m\u001b[0m\u001b[0m\n\u001b[0m\u001b[1;32m    476\u001b[0m         \u001b[0;32mif\u001b[0m \u001b[0mself\u001b[0m\u001b[0;34m.\u001b[0m\u001b[0m_pin_memory\u001b[0m\u001b[0;34m:\u001b[0m\u001b[0;34m\u001b[0m\u001b[0;34m\u001b[0m\u001b[0m\n\u001b[1;32m    477\u001b[0m             \u001b[0mdata\u001b[0m \u001b[0;34m=\u001b[0m \u001b[0m_utils\u001b[0m\u001b[0;34m.\u001b[0m\u001b[0mpin_memory\u001b[0m\u001b[0;34m.\u001b[0m\u001b[0mpin_memory\u001b[0m\u001b[0;34m(\u001b[0m\u001b[0mdata\u001b[0m\u001b[0;34m)\u001b[0m\u001b[0;34m\u001b[0m\u001b[0;34m\u001b[0m\u001b[0m\n",
      "\u001b[0;32m~/miniconda3/envs/ptgnn/lib/python3.8/site-packages/torch/utils/data/_utils/fetch.py\u001b[0m in \u001b[0;36mfetch\u001b[0;34m(self, possibly_batched_index)\u001b[0m\n\u001b[1;32m     42\u001b[0m     \u001b[0;32mdef\u001b[0m \u001b[0mfetch\u001b[0m\u001b[0;34m(\u001b[0m\u001b[0mself\u001b[0m\u001b[0;34m,\u001b[0m \u001b[0mpossibly_batched_index\u001b[0m\u001b[0;34m)\u001b[0m\u001b[0;34m:\u001b[0m\u001b[0;34m\u001b[0m\u001b[0;34m\u001b[0m\u001b[0m\n\u001b[1;32m     43\u001b[0m         \u001b[0;32mif\u001b[0m \u001b[0mself\u001b[0m\u001b[0;34m.\u001b[0m\u001b[0mauto_collation\u001b[0m\u001b[0;34m:\u001b[0m\u001b[0;34m\u001b[0m\u001b[0;34m\u001b[0m\u001b[0m\n\u001b[0;32m---> 44\u001b[0;31m             \u001b[0mdata\u001b[0m \u001b[0;34m=\u001b[0m \u001b[0;34m[\u001b[0m\u001b[0mself\u001b[0m\u001b[0;34m.\u001b[0m\u001b[0mdataset\u001b[0m\u001b[0;34m[\u001b[0m\u001b[0midx\u001b[0m\u001b[0;34m]\u001b[0m \u001b[0;32mfor\u001b[0m \u001b[0midx\u001b[0m \u001b[0;32min\u001b[0m \u001b[0mpossibly_batched_index\u001b[0m\u001b[0;34m]\u001b[0m\u001b[0;34m\u001b[0m\u001b[0;34m\u001b[0m\u001b[0m\n\u001b[0m\u001b[1;32m     45\u001b[0m         \u001b[0;32melse\u001b[0m\u001b[0;34m:\u001b[0m\u001b[0;34m\u001b[0m\u001b[0;34m\u001b[0m\u001b[0m\n\u001b[1;32m     46\u001b[0m             \u001b[0mdata\u001b[0m \u001b[0;34m=\u001b[0m \u001b[0mself\u001b[0m\u001b[0;34m.\u001b[0m\u001b[0mdataset\u001b[0m\u001b[0;34m[\u001b[0m\u001b[0mpossibly_batched_index\u001b[0m\u001b[0;34m]\u001b[0m\u001b[0;34m\u001b[0m\u001b[0;34m\u001b[0m\u001b[0m\n",
      "\u001b[0;32m~/miniconda3/envs/ptgnn/lib/python3.8/site-packages/torch/utils/data/_utils/fetch.py\u001b[0m in \u001b[0;36m<listcomp>\u001b[0;34m(.0)\u001b[0m\n\u001b[1;32m     42\u001b[0m     \u001b[0;32mdef\u001b[0m \u001b[0mfetch\u001b[0m\u001b[0;34m(\u001b[0m\u001b[0mself\u001b[0m\u001b[0;34m,\u001b[0m \u001b[0mpossibly_batched_index\u001b[0m\u001b[0;34m)\u001b[0m\u001b[0;34m:\u001b[0m\u001b[0;34m\u001b[0m\u001b[0;34m\u001b[0m\u001b[0m\n\u001b[1;32m     43\u001b[0m         \u001b[0;32mif\u001b[0m \u001b[0mself\u001b[0m\u001b[0;34m.\u001b[0m\u001b[0mauto_collation\u001b[0m\u001b[0;34m:\u001b[0m\u001b[0;34m\u001b[0m\u001b[0;34m\u001b[0m\u001b[0m\n\u001b[0;32m---> 44\u001b[0;31m             \u001b[0mdata\u001b[0m \u001b[0;34m=\u001b[0m \u001b[0;34m[\u001b[0m\u001b[0mself\u001b[0m\u001b[0;34m.\u001b[0m\u001b[0mdataset\u001b[0m\u001b[0;34m[\u001b[0m\u001b[0midx\u001b[0m\u001b[0;34m]\u001b[0m \u001b[0;32mfor\u001b[0m \u001b[0midx\u001b[0m \u001b[0;32min\u001b[0m \u001b[0mpossibly_batched_index\u001b[0m\u001b[0;34m]\u001b[0m\u001b[0;34m\u001b[0m\u001b[0;34m\u001b[0m\u001b[0m\n\u001b[0m\u001b[1;32m     45\u001b[0m         \u001b[0;32melse\u001b[0m\u001b[0;34m:\u001b[0m\u001b[0;34m\u001b[0m\u001b[0;34m\u001b[0m\u001b[0m\n\u001b[1;32m     46\u001b[0m             \u001b[0mdata\u001b[0m \u001b[0;34m=\u001b[0m \u001b[0mself\u001b[0m\u001b[0;34m.\u001b[0m\u001b[0mdataset\u001b[0m\u001b[0;34m[\u001b[0m\u001b[0mpossibly_batched_index\u001b[0m\u001b[0;34m]\u001b[0m\u001b[0;34m\u001b[0m\u001b[0;34m\u001b[0m\u001b[0m\n",
      "\u001b[0;32m~/miniconda3/envs/ptgnn/lib/python3.8/site-packages/torch_geometric/data/dataset.py\u001b[0m in \u001b[0;36m__getitem__\u001b[0;34m(self, idx)\u001b[0m\n\u001b[1;32m    186\u001b[0m         \u001b[0;32mif\u001b[0m \u001b[0misinstance\u001b[0m\u001b[0;34m(\u001b[0m\u001b[0midx\u001b[0m\u001b[0;34m,\u001b[0m \u001b[0mint\u001b[0m\u001b[0;34m)\u001b[0m\u001b[0;34m:\u001b[0m\u001b[0;34m\u001b[0m\u001b[0;34m\u001b[0m\u001b[0m\n\u001b[1;32m    187\u001b[0m             \u001b[0mdata\u001b[0m \u001b[0;34m=\u001b[0m \u001b[0mself\u001b[0m\u001b[0;34m.\u001b[0m\u001b[0mget\u001b[0m\u001b[0;34m(\u001b[0m\u001b[0mself\u001b[0m\u001b[0;34m.\u001b[0m\u001b[0mindices\u001b[0m\u001b[0;34m(\u001b[0m\u001b[0;34m)\u001b[0m\u001b[0;34m[\u001b[0m\u001b[0midx\u001b[0m\u001b[0;34m]\u001b[0m\u001b[0;34m)\u001b[0m\u001b[0;34m\u001b[0m\u001b[0;34m\u001b[0m\u001b[0m\n\u001b[0;32m--> 188\u001b[0;31m             \u001b[0mdata\u001b[0m \u001b[0;34m=\u001b[0m \u001b[0mdata\u001b[0m \u001b[0;32mif\u001b[0m \u001b[0mself\u001b[0m\u001b[0;34m.\u001b[0m\u001b[0mtransform\u001b[0m \u001b[0;32mis\u001b[0m \u001b[0;32mNone\u001b[0m \u001b[0;32melse\u001b[0m \u001b[0mself\u001b[0m\u001b[0;34m.\u001b[0m\u001b[0mtransform\u001b[0m\u001b[0;34m(\u001b[0m\u001b[0mdata\u001b[0m\u001b[0;34m)\u001b[0m\u001b[0;34m\u001b[0m\u001b[0;34m\u001b[0m\u001b[0m\n\u001b[0m\u001b[1;32m    189\u001b[0m             \u001b[0;32mreturn\u001b[0m \u001b[0mdata\u001b[0m\u001b[0;34m\u001b[0m\u001b[0;34m\u001b[0m\u001b[0m\n\u001b[1;32m    190\u001b[0m         \u001b[0;32melse\u001b[0m\u001b[0;34m:\u001b[0m\u001b[0;34m\u001b[0m\u001b[0;34m\u001b[0m\u001b[0m\n",
      "\u001b[0;32m~/miniconda3/envs/ptgnn/lib/python3.8/site-packages/torch_geometric/transforms/to_sparse_tensor.py\u001b[0m in \u001b[0;36m__call__\u001b[0;34m(self, data)\u001b[0m\n\u001b[1;32m     23\u001b[0m         \u001b[0;32massert\u001b[0m \u001b[0mdata\u001b[0m\u001b[0;34m.\u001b[0m\u001b[0medge_index\u001b[0m \u001b[0;32mis\u001b[0m \u001b[0;32mnot\u001b[0m \u001b[0;32mNone\u001b[0m\u001b[0;34m\u001b[0m\u001b[0;34m\u001b[0m\u001b[0m\n\u001b[1;32m     24\u001b[0m \u001b[0;34m\u001b[0m\u001b[0m\n\u001b[0;32m---> 25\u001b[0;31m         \u001b[0;34m(\u001b[0m\u001b[0mrow\u001b[0m\u001b[0;34m,\u001b[0m \u001b[0mcol\u001b[0m\u001b[0;34m)\u001b[0m\u001b[0;34m,\u001b[0m \u001b[0mN\u001b[0m\u001b[0;34m,\u001b[0m \u001b[0mE\u001b[0m \u001b[0;34m=\u001b[0m \u001b[0mdata\u001b[0m\u001b[0;34m.\u001b[0m\u001b[0medge_index\u001b[0m\u001b[0;34m,\u001b[0m \u001b[0mdata\u001b[0m\u001b[0;34m.\u001b[0m\u001b[0mnum_nodes\u001b[0m\u001b[0;34m,\u001b[0m \u001b[0mdata\u001b[0m\u001b[0;34m.\u001b[0m\u001b[0mnum_edges\u001b[0m\u001b[0;34m\u001b[0m\u001b[0;34m\u001b[0m\u001b[0m\n\u001b[0m\u001b[1;32m     26\u001b[0m         \u001b[0mperm\u001b[0m \u001b[0;34m=\u001b[0m \u001b[0;34m(\u001b[0m\u001b[0mcol\u001b[0m \u001b[0;34m*\u001b[0m \u001b[0mN\u001b[0m \u001b[0;34m+\u001b[0m \u001b[0mrow\u001b[0m\u001b[0;34m)\u001b[0m\u001b[0;34m.\u001b[0m\u001b[0margsort\u001b[0m\u001b[0;34m(\u001b[0m\u001b[0;34m)\u001b[0m\u001b[0;34m\u001b[0m\u001b[0;34m\u001b[0m\u001b[0m\n\u001b[1;32m     27\u001b[0m         \u001b[0mrow\u001b[0m\u001b[0;34m,\u001b[0m \u001b[0mcol\u001b[0m \u001b[0;34m=\u001b[0m \u001b[0mrow\u001b[0m\u001b[0;34m[\u001b[0m\u001b[0mperm\u001b[0m\u001b[0;34m]\u001b[0m\u001b[0;34m,\u001b[0m \u001b[0mcol\u001b[0m\u001b[0;34m[\u001b[0m\u001b[0mperm\u001b[0m\u001b[0;34m]\u001b[0m\u001b[0;34m\u001b[0m\u001b[0;34m\u001b[0m\u001b[0m\n",
      "\u001b[0;32m~/miniconda3/envs/ptgnn/lib/python3.8/site-packages/torch_geometric/data/data.py\u001b[0m in \u001b[0;36mnum_nodes\u001b[0;34m(self)\u001b[0m\n\u001b[1;32m    210\u001b[0m             \u001b[0;32mreturn\u001b[0m \u001b[0mself\u001b[0m\u001b[0;34m.\u001b[0m\u001b[0m__num_nodes__\u001b[0m\u001b[0;34m\u001b[0m\u001b[0;34m\u001b[0m\u001b[0m\n\u001b[1;32m    211\u001b[0m         \u001b[0;32mfor\u001b[0m \u001b[0mkey\u001b[0m\u001b[0;34m,\u001b[0m \u001b[0mitem\u001b[0m \u001b[0;32min\u001b[0m \u001b[0mself\u001b[0m\u001b[0;34m(\u001b[0m\u001b[0;34m'x'\u001b[0m\u001b[0;34m,\u001b[0m \u001b[0;34m'pos'\u001b[0m\u001b[0;34m,\u001b[0m \u001b[0;34m'normal'\u001b[0m\u001b[0;34m,\u001b[0m \u001b[0;34m'batch'\u001b[0m\u001b[0;34m)\u001b[0m\u001b[0;34m:\u001b[0m\u001b[0;34m\u001b[0m\u001b[0;34m\u001b[0m\u001b[0m\n\u001b[0;32m--> 212\u001b[0;31m             \u001b[0;32mreturn\u001b[0m \u001b[0mitem\u001b[0m\u001b[0;34m.\u001b[0m\u001b[0msize\u001b[0m\u001b[0;34m(\u001b[0m\u001b[0mself\u001b[0m\u001b[0;34m.\u001b[0m\u001b[0m__cat_dim__\u001b[0m\u001b[0;34m(\u001b[0m\u001b[0mkey\u001b[0m\u001b[0;34m,\u001b[0m \u001b[0mitem\u001b[0m\u001b[0;34m)\u001b[0m\u001b[0;34m)\u001b[0m\u001b[0;34m\u001b[0m\u001b[0;34m\u001b[0m\u001b[0m\n\u001b[0m\u001b[1;32m    213\u001b[0m         \u001b[0;32mif\u001b[0m \u001b[0mhasattr\u001b[0m\u001b[0;34m(\u001b[0m\u001b[0mself\u001b[0m\u001b[0;34m,\u001b[0m \u001b[0;34m'adj'\u001b[0m\u001b[0;34m)\u001b[0m\u001b[0;34m:\u001b[0m\u001b[0;34m\u001b[0m\u001b[0;34m\u001b[0m\u001b[0m\n\u001b[1;32m    214\u001b[0m             \u001b[0;32mreturn\u001b[0m \u001b[0mself\u001b[0m\u001b[0;34m.\u001b[0m\u001b[0madj\u001b[0m\u001b[0;34m.\u001b[0m\u001b[0msize\u001b[0m\u001b[0;34m(\u001b[0m\u001b[0;36m0\u001b[0m\u001b[0;34m)\u001b[0m\u001b[0;34m\u001b[0m\u001b[0;34m\u001b[0m\u001b[0m\n",
      "\u001b[0;32m~/miniconda3/envs/ptgnn/lib/python3.8/site-packages/torch_sparse/tensor.py\u001b[0m in \u001b[0;36msize\u001b[0;34m(self, dim)\u001b[0m\n\u001b[1;32m    212\u001b[0m \u001b[0;34m\u001b[0m\u001b[0m\n\u001b[1;32m    213\u001b[0m     \u001b[0;32mdef\u001b[0m \u001b[0msize\u001b[0m\u001b[0;34m(\u001b[0m\u001b[0mself\u001b[0m\u001b[0;34m,\u001b[0m \u001b[0mdim\u001b[0m\u001b[0;34m:\u001b[0m \u001b[0mint\u001b[0m\u001b[0;34m)\u001b[0m \u001b[0;34m->\u001b[0m \u001b[0mint\u001b[0m\u001b[0;34m:\u001b[0m\u001b[0;34m\u001b[0m\u001b[0;34m\u001b[0m\u001b[0m\n\u001b[0;32m--> 214\u001b[0;31m         \u001b[0;32mreturn\u001b[0m \u001b[0mself\u001b[0m\u001b[0;34m.\u001b[0m\u001b[0msizes\u001b[0m\u001b[0;34m(\u001b[0m\u001b[0;34m)\u001b[0m\u001b[0;34m[\u001b[0m\u001b[0mdim\u001b[0m\u001b[0;34m]\u001b[0m\u001b[0;34m\u001b[0m\u001b[0;34m\u001b[0m\u001b[0m\n\u001b[0m\u001b[1;32m    215\u001b[0m \u001b[0;34m\u001b[0m\u001b[0m\n\u001b[1;32m    216\u001b[0m     \u001b[0;32mdef\u001b[0m \u001b[0mdim\u001b[0m\u001b[0;34m(\u001b[0m\u001b[0mself\u001b[0m\u001b[0;34m)\u001b[0m \u001b[0;34m->\u001b[0m \u001b[0mint\u001b[0m\u001b[0;34m:\u001b[0m\u001b[0;34m\u001b[0m\u001b[0;34m\u001b[0m\u001b[0m\n",
      "\u001b[0;31mTypeError\u001b[0m: list indices must be integers or slices, not tuple"
     ]
    }
   ],
   "source": [
    "for batch in train_loader:\n",
    "    print(batch)"
   ]
  },
  {
   "cell_type": "code",
   "execution_count": 254,
   "metadata": {},
   "outputs": [],
   "source": [
    "from typing import List, Union\n",
    "\n",
    "import torch.nn as nn\n",
    "import torch.nn.functional as F\n",
    "from torch_geometric.nn import TransformerConv\n",
    "\n",
    "class GNNConvolution(nn.Module):\n",
    "\n",
    "    def __init__(\n",
    "        self, \n",
    "        input_dim: int, \n",
    "        edge_dim: int, \n",
    "        hidden_dims: Union[int, List[int], None], \n",
    "        output_dim: int, \n",
    "        dropout: float = 0.25, \n",
    "        layer_norm: bool = True\n",
    "    ):\n",
    "        super(GNNConvolution, self).__init__()\n",
    "        if hidden_dims is None:\n",
    "            hidden_dims = []\n",
    "        elif not isinstance(hidden_dims, list):\n",
    "            hidden_dims = [hidden_dims]\n",
    "        self.num_layers = len(hidden_dims) + 1\n",
    "        self.dropout = dropout\n",
    "        self.convs = nn.ModuleList()\n",
    "        self.layer_norm = layer_norm\n",
    "        self.lns = nn.ModuleList()\n",
    "\n",
    "        i_dim = input_dim\n",
    "        for i in range(len(hidden_dims)):\n",
    "            self.convs.append(self.build_conv_layer(i_dim, edge_dim, hidden_dims[i]))\n",
    "            if self.layer_norm:\n",
    "                self.lns.append(nn.LayerNorm(hidden_dims[i]))\n",
    "            i_dim = hidden_dims[i]\n",
    "        self.convs.append(self.build_conv_layer(i_dim, edge_dim, output_dim))\n",
    "        \n",
    "        self.bce_loss = nn.BCEWithLogitsLoss(pos_weight=torch.ones([output_dim]))\n",
    "\n",
    "    def build_conv_layer(self, input_dim, edge_dim, hidden_dim):\n",
    "        return TransformerConv(input_dim, hidden_dim, edge_dim=edge_dim)\n",
    "\n",
    "    def forward(self, node_attr, edge_index, edge_attr):\n",
    "        for i in range(self.num_layers):\n",
    "            node_attr = self.convs[i](node_attr, edge_index, edge_attr)\n",
    "            node_attr = F.relu(node_attr)\n",
    "            node_attr = F.dropout(node_attr, p=self.dropout, training=self.training)\n",
    "            if self.layer_norm and i < self.num_layers - 1:\n",
    "                node_attr = self.lns[i](node_attr)\n",
    "        return node_attr\n",
    "    \n",
    "    def loss(self, logits, labels, variable_mask):\n",
    "        loss_val = self.bce_loss(logits[variable_mask], labels[variable_mask])\n",
    "        return loss_val"
   ]
  },
  {
   "cell_type": "code",
   "execution_count": 255,
   "metadata": {},
   "outputs": [],
   "source": [
    "input_dim = 2000\n",
    "edge_dim = 8\n",
    "hidden_dims = [128, 64, 32]\n",
    "output_dim = 2\n",
    "\n",
    "model = GNNConvolution(input_dim, edge_dim, hidden_dims, output_dim)"
   ]
  },
  {
   "cell_type": "code",
   "execution_count": 256,
   "metadata": {},
   "outputs": [],
   "source": [
    "def batch_predict(model, batch, threshold=0.9):\n",
    "    with torch.no_grad():\n",
    "        node_attr, edge_index, edge_attr = batch.x, batch.edge_index, batch.edge_attr\n",
    "        logits = model(node_attr, edge_index, edge_attr, batch.batch)\n",
    "        pred = torch.sigmoid(logits).detach().cpu().numpy() > threshold\n",
    "        labels = batch.labels.cpu()\n",
    "\n",
    "    jaccard_score_val = jaccard_score(labels, yara_pred, average=\"weighted\", zero_division=0)\n",
    "    hamming_score_val = hamming_loss(labels, yara_pred)\n",
    "\n",
    "    return jaccard_score_val, hamming_score_val\n",
    "\n",
    "\n",
    "def predict_for_loader(model, test_loader):\n",
    "    jaccard_score_total, hamming_loss_total = 0, 0\n",
    "    for data in test_loader:\n",
    "        data.to(DEVICE)\n",
    "        jaccard_score_val, hamming_score_val = batch_predict(model, data)\n",
    "\n",
    "        jaccard_score_total += jaccard_score_val\n",
    "        hamming_loss_total += hamming_loss_total\n",
    "\n",
    "    total = len(test_loader.dataset)\n",
    "    return (metric / total for metric in [jaccard_score_total, hamming_loss_total])"
   ]
  },
  {
   "cell_type": "code",
   "execution_count": 257,
   "metadata": {},
   "outputs": [
    {
     "ename": "TypeError",
     "evalue": "list indices must be integers or slices, not tuple",
     "output_type": "error",
     "traceback": [
      "\u001b[0;31m---------------------------------------------------------------------------\u001b[0m",
      "\u001b[0;31mTypeError\u001b[0m                                 Traceback (most recent call last)",
      "\u001b[0;32m<ipython-input-257-3d051867da22>\u001b[0m in \u001b[0;36m<module>\u001b[0;34m\u001b[0m\n\u001b[1;32m      5\u001b[0m     \u001b[0mtotal_loss\u001b[0m \u001b[0;34m=\u001b[0m \u001b[0;36m0\u001b[0m\u001b[0;34m\u001b[0m\u001b[0;34m\u001b[0m\u001b[0m\n\u001b[1;32m      6\u001b[0m     \u001b[0mmodel\u001b[0m\u001b[0;34m.\u001b[0m\u001b[0mtrain\u001b[0m\u001b[0;34m(\u001b[0m\u001b[0;34m)\u001b[0m\u001b[0;34m\u001b[0m\u001b[0;34m\u001b[0m\u001b[0m\n\u001b[0;32m----> 7\u001b[0;31m     \u001b[0;32mfor\u001b[0m \u001b[0mbatch\u001b[0m \u001b[0;32min\u001b[0m \u001b[0mtrain_loader\u001b[0m\u001b[0;34m:\u001b[0m\u001b[0;34m\u001b[0m\u001b[0;34m\u001b[0m\u001b[0m\n\u001b[0m\u001b[1;32m      8\u001b[0m         \u001b[0;31m#print(batch.train_mask, '----')\u001b[0m\u001b[0;34m\u001b[0m\u001b[0;34m\u001b[0m\u001b[0;34m\u001b[0m\u001b[0m\n\u001b[1;32m      9\u001b[0m         \u001b[0mopt\u001b[0m\u001b[0;34m.\u001b[0m\u001b[0mzero_grad\u001b[0m\u001b[0;34m(\u001b[0m\u001b[0;34m)\u001b[0m\u001b[0;34m\u001b[0m\u001b[0;34m\u001b[0m\u001b[0m\n",
      "\u001b[0;32m~/miniconda3/envs/ptgnn/lib/python3.8/site-packages/torch/utils/data/dataloader.py\u001b[0m in \u001b[0;36m__next__\u001b[0;34m(self)\u001b[0m\n\u001b[1;32m    433\u001b[0m         \u001b[0;32mif\u001b[0m \u001b[0mself\u001b[0m\u001b[0;34m.\u001b[0m\u001b[0m_sampler_iter\u001b[0m \u001b[0;32mis\u001b[0m \u001b[0;32mNone\u001b[0m\u001b[0;34m:\u001b[0m\u001b[0;34m\u001b[0m\u001b[0;34m\u001b[0m\u001b[0m\n\u001b[1;32m    434\u001b[0m             \u001b[0mself\u001b[0m\u001b[0;34m.\u001b[0m\u001b[0m_reset\u001b[0m\u001b[0;34m(\u001b[0m\u001b[0;34m)\u001b[0m\u001b[0;34m\u001b[0m\u001b[0;34m\u001b[0m\u001b[0m\n\u001b[0;32m--> 435\u001b[0;31m         \u001b[0mdata\u001b[0m \u001b[0;34m=\u001b[0m \u001b[0mself\u001b[0m\u001b[0;34m.\u001b[0m\u001b[0m_next_data\u001b[0m\u001b[0;34m(\u001b[0m\u001b[0;34m)\u001b[0m\u001b[0;34m\u001b[0m\u001b[0;34m\u001b[0m\u001b[0m\n\u001b[0m\u001b[1;32m    436\u001b[0m         \u001b[0mself\u001b[0m\u001b[0;34m.\u001b[0m\u001b[0m_num_yielded\u001b[0m \u001b[0;34m+=\u001b[0m \u001b[0;36m1\u001b[0m\u001b[0;34m\u001b[0m\u001b[0;34m\u001b[0m\u001b[0m\n\u001b[1;32m    437\u001b[0m         \u001b[0;32mif\u001b[0m \u001b[0mself\u001b[0m\u001b[0;34m.\u001b[0m\u001b[0m_dataset_kind\u001b[0m \u001b[0;34m==\u001b[0m \u001b[0m_DatasetKind\u001b[0m\u001b[0;34m.\u001b[0m\u001b[0mIterable\u001b[0m \u001b[0;32mand\u001b[0m\u001b[0;31m \u001b[0m\u001b[0;31m\\\u001b[0m\u001b[0;34m\u001b[0m\u001b[0;34m\u001b[0m\u001b[0m\n",
      "\u001b[0;32m~/miniconda3/envs/ptgnn/lib/python3.8/site-packages/torch/utils/data/dataloader.py\u001b[0m in \u001b[0;36m_next_data\u001b[0;34m(self)\u001b[0m\n\u001b[1;32m    473\u001b[0m     \u001b[0;32mdef\u001b[0m \u001b[0m_next_data\u001b[0m\u001b[0;34m(\u001b[0m\u001b[0mself\u001b[0m\u001b[0;34m)\u001b[0m\u001b[0;34m:\u001b[0m\u001b[0;34m\u001b[0m\u001b[0;34m\u001b[0m\u001b[0m\n\u001b[1;32m    474\u001b[0m         \u001b[0mindex\u001b[0m \u001b[0;34m=\u001b[0m \u001b[0mself\u001b[0m\u001b[0;34m.\u001b[0m\u001b[0m_next_index\u001b[0m\u001b[0;34m(\u001b[0m\u001b[0;34m)\u001b[0m  \u001b[0;31m# may raise StopIteration\u001b[0m\u001b[0;34m\u001b[0m\u001b[0;34m\u001b[0m\u001b[0m\n\u001b[0;32m--> 475\u001b[0;31m         \u001b[0mdata\u001b[0m \u001b[0;34m=\u001b[0m \u001b[0mself\u001b[0m\u001b[0;34m.\u001b[0m\u001b[0m_dataset_fetcher\u001b[0m\u001b[0;34m.\u001b[0m\u001b[0mfetch\u001b[0m\u001b[0;34m(\u001b[0m\u001b[0mindex\u001b[0m\u001b[0;34m)\u001b[0m  \u001b[0;31m# may raise StopIteration\u001b[0m\u001b[0;34m\u001b[0m\u001b[0;34m\u001b[0m\u001b[0m\n\u001b[0m\u001b[1;32m    476\u001b[0m         \u001b[0;32mif\u001b[0m \u001b[0mself\u001b[0m\u001b[0;34m.\u001b[0m\u001b[0m_pin_memory\u001b[0m\u001b[0;34m:\u001b[0m\u001b[0;34m\u001b[0m\u001b[0;34m\u001b[0m\u001b[0m\n\u001b[1;32m    477\u001b[0m             \u001b[0mdata\u001b[0m \u001b[0;34m=\u001b[0m \u001b[0m_utils\u001b[0m\u001b[0;34m.\u001b[0m\u001b[0mpin_memory\u001b[0m\u001b[0;34m.\u001b[0m\u001b[0mpin_memory\u001b[0m\u001b[0;34m(\u001b[0m\u001b[0mdata\u001b[0m\u001b[0;34m)\u001b[0m\u001b[0;34m\u001b[0m\u001b[0;34m\u001b[0m\u001b[0m\n",
      "\u001b[0;32m~/miniconda3/envs/ptgnn/lib/python3.8/site-packages/torch/utils/data/_utils/fetch.py\u001b[0m in \u001b[0;36mfetch\u001b[0;34m(self, possibly_batched_index)\u001b[0m\n\u001b[1;32m     45\u001b[0m         \u001b[0;32melse\u001b[0m\u001b[0;34m:\u001b[0m\u001b[0;34m\u001b[0m\u001b[0;34m\u001b[0m\u001b[0m\n\u001b[1;32m     46\u001b[0m             \u001b[0mdata\u001b[0m \u001b[0;34m=\u001b[0m \u001b[0mself\u001b[0m\u001b[0;34m.\u001b[0m\u001b[0mdataset\u001b[0m\u001b[0;34m[\u001b[0m\u001b[0mpossibly_batched_index\u001b[0m\u001b[0;34m]\u001b[0m\u001b[0;34m\u001b[0m\u001b[0;34m\u001b[0m\u001b[0m\n\u001b[0;32m---> 47\u001b[0;31m         \u001b[0;32mreturn\u001b[0m \u001b[0mself\u001b[0m\u001b[0;34m.\u001b[0m\u001b[0mcollate_fn\u001b[0m\u001b[0;34m(\u001b[0m\u001b[0mdata\u001b[0m\u001b[0;34m)\u001b[0m\u001b[0;34m\u001b[0m\u001b[0;34m\u001b[0m\u001b[0m\n\u001b[0m",
      "\u001b[0;32m~/miniconda3/envs/ptgnn/lib/python3.8/site-packages/torch_geometric/data/dataloader.py\u001b[0m in \u001b[0;36m__call__\u001b[0;34m(self, batch)\u001b[0m\n\u001b[1;32m     32\u001b[0m \u001b[0;34m\u001b[0m\u001b[0m\n\u001b[1;32m     33\u001b[0m     \u001b[0;32mdef\u001b[0m \u001b[0m__call__\u001b[0m\u001b[0;34m(\u001b[0m\u001b[0mself\u001b[0m\u001b[0;34m,\u001b[0m \u001b[0mbatch\u001b[0m\u001b[0;34m)\u001b[0m\u001b[0;34m:\u001b[0m\u001b[0;34m\u001b[0m\u001b[0;34m\u001b[0m\u001b[0m\n\u001b[0;32m---> 34\u001b[0;31m         \u001b[0;32mreturn\u001b[0m \u001b[0mself\u001b[0m\u001b[0;34m.\u001b[0m\u001b[0mcollate\u001b[0m\u001b[0;34m(\u001b[0m\u001b[0mbatch\u001b[0m\u001b[0;34m)\u001b[0m\u001b[0;34m\u001b[0m\u001b[0;34m\u001b[0m\u001b[0m\n\u001b[0m\u001b[1;32m     35\u001b[0m \u001b[0;34m\u001b[0m\u001b[0m\n\u001b[1;32m     36\u001b[0m \u001b[0;34m\u001b[0m\u001b[0m\n",
      "\u001b[0;32m~/miniconda3/envs/ptgnn/lib/python3.8/site-packages/torch_geometric/data/dataloader.py\u001b[0m in \u001b[0;36mcollate\u001b[0;34m(self, batch)\u001b[0m\n\u001b[1;32m     13\u001b[0m         \u001b[0melem\u001b[0m \u001b[0;34m=\u001b[0m \u001b[0mbatch\u001b[0m\u001b[0;34m[\u001b[0m\u001b[0;36m0\u001b[0m\u001b[0;34m]\u001b[0m\u001b[0;34m\u001b[0m\u001b[0;34m\u001b[0m\u001b[0m\n\u001b[1;32m     14\u001b[0m         \u001b[0;32mif\u001b[0m \u001b[0misinstance\u001b[0m\u001b[0;34m(\u001b[0m\u001b[0melem\u001b[0m\u001b[0;34m,\u001b[0m \u001b[0mData\u001b[0m\u001b[0;34m)\u001b[0m\u001b[0;34m:\u001b[0m\u001b[0;34m\u001b[0m\u001b[0;34m\u001b[0m\u001b[0m\n\u001b[0;32m---> 15\u001b[0;31m             \u001b[0;32mreturn\u001b[0m \u001b[0mBatch\u001b[0m\u001b[0;34m.\u001b[0m\u001b[0mfrom_data_list\u001b[0m\u001b[0;34m(\u001b[0m\u001b[0mbatch\u001b[0m\u001b[0;34m,\u001b[0m \u001b[0mself\u001b[0m\u001b[0;34m.\u001b[0m\u001b[0mfollow_batch\u001b[0m\u001b[0;34m)\u001b[0m\u001b[0;34m\u001b[0m\u001b[0;34m\u001b[0m\u001b[0m\n\u001b[0m\u001b[1;32m     16\u001b[0m         \u001b[0;32melif\u001b[0m \u001b[0misinstance\u001b[0m\u001b[0;34m(\u001b[0m\u001b[0melem\u001b[0m\u001b[0;34m,\u001b[0m \u001b[0mtorch\u001b[0m\u001b[0;34m.\u001b[0m\u001b[0mTensor\u001b[0m\u001b[0;34m)\u001b[0m\u001b[0;34m:\u001b[0m\u001b[0;34m\u001b[0m\u001b[0;34m\u001b[0m\u001b[0m\n\u001b[1;32m     17\u001b[0m             \u001b[0;32mreturn\u001b[0m \u001b[0mdefault_collate\u001b[0m\u001b[0;34m(\u001b[0m\u001b[0mbatch\u001b[0m\u001b[0;34m)\u001b[0m\u001b[0;34m\u001b[0m\u001b[0;34m\u001b[0m\u001b[0m\n",
      "\u001b[0;32m~/miniconda3/envs/ptgnn/lib/python3.8/site-packages/torch_geometric/data/batch.py\u001b[0m in \u001b[0;36mfrom_data_list\u001b[0;34m(data_list, follow_batch)\u001b[0m\n\u001b[1;32m     93\u001b[0m \u001b[0;34m\u001b[0m\u001b[0m\n\u001b[1;32m     94\u001b[0m                 \u001b[0mslices\u001b[0m\u001b[0;34m[\u001b[0m\u001b[0mkey\u001b[0m\u001b[0;34m]\u001b[0m\u001b[0;34m.\u001b[0m\u001b[0mappend\u001b[0m\u001b[0;34m(\u001b[0m\u001b[0msize\u001b[0m \u001b[0;34m+\u001b[0m \u001b[0mslices\u001b[0m\u001b[0;34m[\u001b[0m\u001b[0mkey\u001b[0m\u001b[0;34m]\u001b[0m\u001b[0;34m[\u001b[0m\u001b[0;34m-\u001b[0m\u001b[0;36m1\u001b[0m\u001b[0;34m]\u001b[0m\u001b[0;34m)\u001b[0m\u001b[0;34m\u001b[0m\u001b[0;34m\u001b[0m\u001b[0m\n\u001b[0;32m---> 95\u001b[0;31m                 \u001b[0minc\u001b[0m \u001b[0;34m=\u001b[0m \u001b[0mdata\u001b[0m\u001b[0;34m.\u001b[0m\u001b[0m__inc__\u001b[0m\u001b[0;34m(\u001b[0m\u001b[0mkey\u001b[0m\u001b[0;34m,\u001b[0m \u001b[0mitem\u001b[0m\u001b[0;34m)\u001b[0m\u001b[0;34m\u001b[0m\u001b[0;34m\u001b[0m\u001b[0m\n\u001b[0m\u001b[1;32m     96\u001b[0m                 \u001b[0;32mif\u001b[0m \u001b[0misinstance\u001b[0m\u001b[0;34m(\u001b[0m\u001b[0minc\u001b[0m\u001b[0;34m,\u001b[0m \u001b[0;34m(\u001b[0m\u001b[0mtuple\u001b[0m\u001b[0;34m,\u001b[0m \u001b[0mlist\u001b[0m\u001b[0;34m)\u001b[0m\u001b[0;34m)\u001b[0m\u001b[0;34m:\u001b[0m\u001b[0;34m\u001b[0m\u001b[0;34m\u001b[0m\u001b[0m\n\u001b[1;32m     97\u001b[0m                     \u001b[0minc\u001b[0m \u001b[0;34m=\u001b[0m \u001b[0mtorch\u001b[0m\u001b[0;34m.\u001b[0m\u001b[0mtensor\u001b[0m\u001b[0;34m(\u001b[0m\u001b[0minc\u001b[0m\u001b[0;34m)\u001b[0m\u001b[0;34m\u001b[0m\u001b[0;34m\u001b[0m\u001b[0m\n",
      "\u001b[0;32m~/miniconda3/envs/ptgnn/lib/python3.8/site-packages/torch_geometric/data/data.py\u001b[0m in \u001b[0;36m__inc__\u001b[0;34m(self, key, value)\u001b[0m\n\u001b[1;32m    188\u001b[0m         \u001b[0;31m# Only `*index*` and `*face*` attributes should be cumulatively summed\u001b[0m\u001b[0;34m\u001b[0m\u001b[0;34m\u001b[0m\u001b[0;34m\u001b[0m\u001b[0m\n\u001b[1;32m    189\u001b[0m         \u001b[0;31m# up when creating batches.\u001b[0m\u001b[0;34m\u001b[0m\u001b[0;34m\u001b[0m\u001b[0;34m\u001b[0m\u001b[0m\n\u001b[0;32m--> 190\u001b[0;31m         \u001b[0;32mreturn\u001b[0m \u001b[0mself\u001b[0m\u001b[0;34m.\u001b[0m\u001b[0mnum_nodes\u001b[0m \u001b[0;32mif\u001b[0m \u001b[0mbool\u001b[0m\u001b[0;34m(\u001b[0m\u001b[0mre\u001b[0m\u001b[0;34m.\u001b[0m\u001b[0msearch\u001b[0m\u001b[0;34m(\u001b[0m\u001b[0;34m'(index|face)'\u001b[0m\u001b[0;34m,\u001b[0m \u001b[0mkey\u001b[0m\u001b[0;34m)\u001b[0m\u001b[0;34m)\u001b[0m \u001b[0;32melse\u001b[0m \u001b[0;36m0\u001b[0m\u001b[0;34m\u001b[0m\u001b[0;34m\u001b[0m\u001b[0m\n\u001b[0m\u001b[1;32m    191\u001b[0m \u001b[0;34m\u001b[0m\u001b[0m\n\u001b[1;32m    192\u001b[0m     \u001b[0;34m@\u001b[0m\u001b[0mproperty\u001b[0m\u001b[0;34m\u001b[0m\u001b[0;34m\u001b[0m\u001b[0m\n",
      "\u001b[0;32m~/miniconda3/envs/ptgnn/lib/python3.8/site-packages/torch_geometric/data/data.py\u001b[0m in \u001b[0;36mnum_nodes\u001b[0;34m(self)\u001b[0m\n\u001b[1;32m    210\u001b[0m             \u001b[0;32mreturn\u001b[0m \u001b[0mself\u001b[0m\u001b[0;34m.\u001b[0m\u001b[0m__num_nodes__\u001b[0m\u001b[0;34m\u001b[0m\u001b[0;34m\u001b[0m\u001b[0m\n\u001b[1;32m    211\u001b[0m         \u001b[0;32mfor\u001b[0m \u001b[0mkey\u001b[0m\u001b[0;34m,\u001b[0m \u001b[0mitem\u001b[0m \u001b[0;32min\u001b[0m \u001b[0mself\u001b[0m\u001b[0;34m(\u001b[0m\u001b[0;34m'x'\u001b[0m\u001b[0;34m,\u001b[0m \u001b[0;34m'pos'\u001b[0m\u001b[0;34m,\u001b[0m \u001b[0;34m'normal'\u001b[0m\u001b[0;34m,\u001b[0m \u001b[0;34m'batch'\u001b[0m\u001b[0;34m)\u001b[0m\u001b[0;34m:\u001b[0m\u001b[0;34m\u001b[0m\u001b[0;34m\u001b[0m\u001b[0m\n\u001b[0;32m--> 212\u001b[0;31m             \u001b[0;32mreturn\u001b[0m \u001b[0mitem\u001b[0m\u001b[0;34m.\u001b[0m\u001b[0msize\u001b[0m\u001b[0;34m(\u001b[0m\u001b[0mself\u001b[0m\u001b[0;34m.\u001b[0m\u001b[0m__cat_dim__\u001b[0m\u001b[0;34m(\u001b[0m\u001b[0mkey\u001b[0m\u001b[0;34m,\u001b[0m \u001b[0mitem\u001b[0m\u001b[0;34m)\u001b[0m\u001b[0;34m)\u001b[0m\u001b[0;34m\u001b[0m\u001b[0;34m\u001b[0m\u001b[0m\n\u001b[0m\u001b[1;32m    213\u001b[0m         \u001b[0;32mif\u001b[0m \u001b[0mhasattr\u001b[0m\u001b[0;34m(\u001b[0m\u001b[0mself\u001b[0m\u001b[0;34m,\u001b[0m \u001b[0;34m'adj'\u001b[0m\u001b[0;34m)\u001b[0m\u001b[0;34m:\u001b[0m\u001b[0;34m\u001b[0m\u001b[0;34m\u001b[0m\u001b[0m\n\u001b[1;32m    214\u001b[0m             \u001b[0;32mreturn\u001b[0m \u001b[0mself\u001b[0m\u001b[0;34m.\u001b[0m\u001b[0madj\u001b[0m\u001b[0;34m.\u001b[0m\u001b[0msize\u001b[0m\u001b[0;34m(\u001b[0m\u001b[0;36m0\u001b[0m\u001b[0;34m)\u001b[0m\u001b[0;34m\u001b[0m\u001b[0;34m\u001b[0m\u001b[0m\n",
      "\u001b[0;32m~/miniconda3/envs/ptgnn/lib/python3.8/site-packages/torch_sparse/tensor.py\u001b[0m in \u001b[0;36msize\u001b[0;34m(self, dim)\u001b[0m\n\u001b[1;32m    212\u001b[0m \u001b[0;34m\u001b[0m\u001b[0m\n\u001b[1;32m    213\u001b[0m     \u001b[0;32mdef\u001b[0m \u001b[0msize\u001b[0m\u001b[0;34m(\u001b[0m\u001b[0mself\u001b[0m\u001b[0;34m,\u001b[0m \u001b[0mdim\u001b[0m\u001b[0;34m:\u001b[0m \u001b[0mint\u001b[0m\u001b[0;34m)\u001b[0m \u001b[0;34m->\u001b[0m \u001b[0mint\u001b[0m\u001b[0;34m:\u001b[0m\u001b[0;34m\u001b[0m\u001b[0;34m\u001b[0m\u001b[0m\n\u001b[0;32m--> 214\u001b[0;31m         \u001b[0;32mreturn\u001b[0m \u001b[0mself\u001b[0m\u001b[0;34m.\u001b[0m\u001b[0msizes\u001b[0m\u001b[0;34m(\u001b[0m\u001b[0;34m)\u001b[0m\u001b[0;34m[\u001b[0m\u001b[0mdim\u001b[0m\u001b[0;34m]\u001b[0m\u001b[0;34m\u001b[0m\u001b[0;34m\u001b[0m\u001b[0m\n\u001b[0m\u001b[1;32m    215\u001b[0m \u001b[0;34m\u001b[0m\u001b[0m\n\u001b[1;32m    216\u001b[0m     \u001b[0;32mdef\u001b[0m \u001b[0mdim\u001b[0m\u001b[0;34m(\u001b[0m\u001b[0mself\u001b[0m\u001b[0;34m)\u001b[0m \u001b[0;34m->\u001b[0m \u001b[0mint\u001b[0m\u001b[0;34m:\u001b[0m\u001b[0;34m\u001b[0m\u001b[0;34m\u001b[0m\u001b[0m\n",
      "\u001b[0;31mTypeError\u001b[0m: list indices must be integers or slices, not tuple"
     ]
    }
   ],
   "source": [
    "opt = torch.optim.Adam(model.parameters(), lr=0.01)\n",
    "\n",
    "# train\n",
    "for epoch in range(200):\n",
    "    total_loss = 0\n",
    "    model.train()\n",
    "    for batch in train_loader:\n",
    "        #print(batch.train_mask, '----')\n",
    "        opt.zero_grad()\n",
    "        embedding, pred = model(batch)\n",
    "        label = batch.y\n",
    "        loss = model.loss(pred, label)\n",
    "        loss.backward()\n",
    "        opt.step()\n",
    "        total_loss += loss.item() * batch.num_graphs\n",
    "    total_loss /= len(train_loader.dataset)\n",
    "\n",
    "    if epoch % 10 == 0:\n",
    "        jaccard, hamming = predict_for_loader(model, test_loader)\n",
    "        print(\n",
    "            f\"Epoch {epoch}. \"\n",
    "            f\"Loss: {total_loss:.4f}. \"\n",
    "            f\"Jaccard avg: {train_jaccard/batch.num_graphs:.4f}/{test_jaccard_avg:.4f}. \"\n",
    "            f\"Hamming avg: {train_hamming/batch.num_graphs:.4f}/{test_hamming_avg:.4f}. \"\n",
    "        )\n",
    "        writer.add_scalar(\"predict_for_loader accuracy\", test_acc, epoch)"
   ]
  },
  {
   "cell_type": "code",
   "execution_count": null,
   "metadata": {},
   "outputs": [],
   "source": []
  },
  {
   "cell_type": "code",
   "execution_count": null,
   "metadata": {},
   "outputs": [],
   "source": []
  },
  {
   "cell_type": "code",
   "execution_count": null,
   "metadata": {},
   "outputs": [],
   "source": []
  },
  {
   "cell_type": "code",
   "execution_count": null,
   "metadata": {},
   "outputs": [],
   "source": []
  },
  {
   "cell_type": "code",
   "execution_count": null,
   "metadata": {},
   "outputs": [],
   "source": []
  },
  {
   "cell_type": "code",
   "execution_count": null,
   "metadata": {},
   "outputs": [],
   "source": []
  },
  {
   "cell_type": "code",
   "execution_count": null,
   "metadata": {},
   "outputs": [],
   "source": []
  },
  {
   "cell_type": "code",
   "execution_count": null,
   "metadata": {},
   "outputs": [],
   "source": []
  },
  {
   "cell_type": "code",
   "execution_count": null,
   "metadata": {},
   "outputs": [],
   "source": []
  }
 ],
 "metadata": {
  "kernelspec": {
   "display_name": "gnn",
   "language": "python",
   "name": "gnn"
  },
  "language_info": {
   "codemirror_mode": {
    "name": "ipython",
    "version": 3
   },
   "file_extension": ".py",
   "mimetype": "text/x-python",
   "name": "python",
   "nbconvert_exporter": "python",
   "pygments_lexer": "ipython3",
   "version": "3.8.5"
  }
 },
 "nbformat": 4,
 "nbformat_minor": 2
}
